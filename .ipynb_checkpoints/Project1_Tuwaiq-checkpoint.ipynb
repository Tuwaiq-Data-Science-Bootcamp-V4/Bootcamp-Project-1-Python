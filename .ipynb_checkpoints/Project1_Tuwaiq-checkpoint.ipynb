{
 "cells": [
  {
   "cell_type": "markdown",
   "id": "922ef12a",
   "metadata": {},
   "source": [
    "# Tuwaiq bootcamp project 1 "
   ]
  },
  {
   "cell_type": "markdown",
   "id": "e515c727",
   "metadata": {},
   "source": [
    "### This project takes a list of numbers and analyzes it using many different methods "
   ]
  },
  {
   "cell_type": "code",
   "execution_count": 2,
   "id": "4d1fb100",
   "metadata": {},
   "outputs": [],
   "source": [
    "isEven = lambda x : x % 2 == 0"
   ]
  },
  {
   "cell_type": "code",
   "execution_count": 3,
   "id": "f85f927e",
   "metadata": {},
   "outputs": [],
   "source": [
    "def isPrime(number):\n",
    "    for num in range(2,int(number / 2)):\n",
    "        if number % num == 0:\n",
    "            return False\n",
    "    return True"
   ]
  },
  {
   "cell_type": "code",
   "execution_count": 4,
   "id": "a9f15904",
   "metadata": {},
   "outputs": [],
   "source": [
    "def analyzeNumbers(numbers):\n",
    "    primes = set([num for num in numbers if isPrime(num)])\n",
    "    sumOfNumbers = sum(numbers)\n",
    "    avg = sumOfNumbers / len(numbers)\n",
    "    evenNumbers = set([x for x in numbers if isEven(x)])\n",
    "    oddNumbers = set([x for x in numbers if not isEven(x)])\n",
    "    maxNum = max(numbers)\n",
    "    minNum = min(numbers)\n",
    "    uniques = set(numbers)\n",
    "    sortedNum = sorted(numbers)\n",
    "    \n",
    "    return {\n",
    "        'evenNumbers': evenNumbers,\n",
    "        'oddNumbers': oddNumbers,\n",
    "        'sum': sumOfNumbers,\n",
    "        'average': avg,\n",
    "        'maximum': maxNum,\n",
    "        'minimum': minNum,\n",
    "        'uniqueNumbers': uniques,\n",
    "        'sorted': sortedNum,\n",
    "        'primeNumbers': primes,\n",
    "        \n",
    "    }"
   ]
  },
  {
   "cell_type": "code",
   "execution_count": 5,
   "id": "c63c01bd",
   "metadata": {},
   "outputs": [],
   "source": [
    "numbers = [21,12,12,32,43,3,2,1,1,54,6]"
   ]
  },
  {
   "cell_type": "code",
   "execution_count": 6,
   "id": "718eb4f9",
   "metadata": {},
   "outputs": [],
   "source": [
    "analysisResults = analyzeNumbers(numbers)"
   ]
  },
  {
   "cell_type": "code",
   "execution_count": 7,
   "id": "989706ce",
   "metadata": {},
   "outputs": [
    {
     "name": "stdout",
     "output_type": "stream",
     "text": [
      "The list of numbers: [21, 12, 12, 32, 43, 3, 2, 1, 1, 54, 6]\n"
     ]
    }
   ],
   "source": [
    "print(\"The list of numbers:\", numbers)"
   ]
  },
  {
   "cell_type": "code",
   "execution_count": 8,
   "id": "9a75a33b",
   "metadata": {},
   "outputs": [
    {
     "name": "stdout",
     "output_type": "stream",
     "text": [
      "The even numbers in the list are: {32, 2, 6, 12, 54}\n"
     ]
    }
   ],
   "source": [
    "print(\"The even numbers in the list are:\", analysisResults['evenNumbers'])"
   ]
  },
  {
   "cell_type": "code",
   "execution_count": 9,
   "id": "6adac5df",
   "metadata": {
    "scrolled": true
   },
   "outputs": [
    {
     "name": "stdout",
     "output_type": "stream",
     "text": [
      "The odd numbers in the list are: {3, 1, 43, 21}\n"
     ]
    }
   ],
   "source": [
    "print(\"The odd numbers in the list are:\", analysisResults['oddNumbers'])"
   ]
  },
  {
   "cell_type": "code",
   "execution_count": 10,
   "id": "07eded6f",
   "metadata": {
    "scrolled": true
   },
   "outputs": [
    {
     "name": "stdout",
     "output_type": "stream",
     "text": [
      "The sum of all numbers in the list is: 187\n"
     ]
    }
   ],
   "source": [
    "print(\"The sum of all numbers in the list is:\", analysisResults['sum'])"
   ]
  },
  {
   "cell_type": "code",
   "execution_count": 11,
   "id": "ad946bdd",
   "metadata": {
    "scrolled": true
   },
   "outputs": [
    {
     "name": "stdout",
     "output_type": "stream",
     "text": [
      "The average of the list is: 17.0\n"
     ]
    }
   ],
   "source": [
    "print(\"The average of the list is:\", analysisResults['average'])"
   ]
  },
  {
   "cell_type": "code",
   "execution_count": 12,
   "id": "1667b310",
   "metadata": {
    "scrolled": true
   },
   "outputs": [
    {
     "name": "stdout",
     "output_type": "stream",
     "text": [
      "The maximum number in the list is: 54\n"
     ]
    }
   ],
   "source": [
    "print(\"The maximum number in the list is:\", analysisResults['maximum'])"
   ]
  },
  {
   "cell_type": "code",
   "execution_count": 13,
   "id": "f8e78c06",
   "metadata": {
    "scrolled": true
   },
   "outputs": [
    {
     "name": "stdout",
     "output_type": "stream",
     "text": [
      "The minimum number in the list is: 1\n"
     ]
    }
   ],
   "source": [
    "print(\"The minimum number in the list is:\", analysisResults['minimum'])"
   ]
  },
  {
   "cell_type": "code",
   "execution_count": 14,
   "id": "157752b7",
   "metadata": {
    "scrolled": true
   },
   "outputs": [
    {
     "name": "stdout",
     "output_type": "stream",
     "text": [
      "The unique numbers in the list are: {32, 1, 2, 3, 6, 43, 12, 21, 54}\n"
     ]
    }
   ],
   "source": [
    "print(\"The unique numbers in the list are:\", analysisResults['uniqueNumbers'])"
   ]
  },
  {
   "cell_type": "code",
   "execution_count": 15,
   "id": "735d9c3b",
   "metadata": {
    "scrolled": true
   },
   "outputs": [
    {
     "name": "stdout",
     "output_type": "stream",
     "text": [
      "Prime numbers if any: {3, 1, 2, 43}\n"
     ]
    }
   ],
   "source": [
    "print(\"Prime numbers if any:\", analysisResults['primeNumbers'])"
   ]
  },
  {
   "cell_type": "code",
   "execution_count": 16,
   "id": "e5fb1999",
   "metadata": {
    "scrolled": true
   },
   "outputs": [
    {
     "name": "stdout",
     "output_type": "stream",
     "text": [
      "The odd numbers in the list are: {3, 1, 43, 21}\n"
     ]
    }
   ],
   "source": [
    "print(\"The odd numbers in the list are:\", analysisResults['oddNumbers'])"
   ]
  },
  {
   "cell_type": "code",
   "execution_count": 17,
   "id": "80517d22",
   "metadata": {
    "scrolled": true
   },
   "outputs": [
    {
     "name": "stdout",
     "output_type": "stream",
     "text": [
      "The odd numbers in the list are: {3, 1, 43, 21}\n"
     ]
    }
   ],
   "source": [
    "print(\"The odd numbers in the list are:\", analysisResults['oddNumbers'])"
   ]
  }
 ],
 "metadata": {
  "kernelspec": {
   "display_name": "Python 3 (ipykernel)",
   "language": "python",
   "name": "python3"
  },
  "language_info": {
   "codemirror_mode": {
    "name": "ipython",
    "version": 3
   },
   "file_extension": ".py",
   "mimetype": "text/x-python",
   "name": "python",
   "nbconvert_exporter": "python",
   "pygments_lexer": "ipython3",
   "version": "3.11.3"
  }
 },
 "nbformat": 4,
 "nbformat_minor": 5
}
