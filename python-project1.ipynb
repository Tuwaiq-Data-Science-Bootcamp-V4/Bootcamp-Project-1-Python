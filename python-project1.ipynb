{
 "cells": [
  {
   "cell_type": "code",
   "execution_count": null,
   "id": "503cbb27",
   "metadata": {},
   "outputs": [
    {
     "name": "stdout",
     "output_type": "stream",
     "text": [
      "the Number Guessing Game!\n",
      "start of the number range: 1\n",
      "end of the number range: 5\n",
      "A random number between 1 and 5 has been generated.\n",
      "Make a guess: 2\n",
      "Congratulations! You guessed the correct number!\n",
      "Your guesses: [2]\n",
      "Do you want to play again? (yes/no): yes\n",
      "start of the number range: 1\n",
      "end of the number range: 7\n",
      "A random number between 1 and 7 has been generated.\n",
      "Make a guess: 4\n",
      "high!\n",
      "Make a guess: 3\n",
      "Congratulations! You guessed the correct number!\n",
      "Your guesses: [4, 3]\n"
     ]
    }
   ],
   "source": [
    "import random\n",
    "\n",
    "print(\"the Number Guessing Game!\")\n",
    "\n",
    "play_again = True\n",
    "\n",
    "while play_again:\n",
    "    start_range = int(input(\"start of the number range: \"))\n",
    "    end_range = int(input(\"end of the number range: \"))\n",
    "\n",
    "    if start_range > end_range:\n",
    "        print(\"Start range cannot be greater than end range.\")\n",
    "        continue\n",
    "\n",
    "    target_number = random.randint(start_range, end_range)\n",
    "    print(f\"A random number between {start_range} and {end_range} has been generated.\")\n",
    "\n",
    "    guess_limit = 5\n",
    "    num_guesses = 0\n",
    "    guesses = []\n",
    "\n",
    "    while num_guesses < guess_limit:\n",
    "        user_guess = int(input(\"Make a guess: \"))\n",
    "        guesses.append(user_guess)\n",
    "        num_guesses += 1\n",
    "\n",
    "        if user_guess < target_number:\n",
    "            print(\"low!\")\n",
    "        elif user_guess > target_number:\n",
    "            print(\"high!\")\n",
    "        else:\n",
    "            print(\"Congratulations! You guessed the correct number!\")\n",
    "            break\n",
    "\n",
    "    print(\"Your guesses:\", guesses)\n",
    "\n",
    "    play_again_input = input(\"Do you want to play again? (yes/no): \")\n",
    "    play_again = play_again_input.lower() == \"yes\"\n",
    "\n",
    "print(\"Thank you for playing the Number Guessing Game!\")"
   ]
  },
  {
   "cell_type": "code",
   "execution_count": null,
   "id": "704e9c8e",
   "metadata": {},
   "outputs": [],
   "source": []
  }
 ],
 "metadata": {
  "kernelspec": {
   "display_name": "Python 3 (ipykernel)",
   "language": "python",
   "name": "python3"
  },
  "language_info": {
   "codemirror_mode": {
    "name": "ipython",
    "version": 3
   },
   "file_extension": ".py",
   "mimetype": "text/x-python",
   "name": "python",
   "nbconvert_exporter": "python",
   "pygments_lexer": "ipython3",
   "version": "3.11.3"
  }
 },
 "nbformat": 4,
 "nbformat_minor": 5
}
