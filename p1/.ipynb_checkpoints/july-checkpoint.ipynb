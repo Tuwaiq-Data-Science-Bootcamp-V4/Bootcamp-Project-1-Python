{
 "cells": [
  {
   "cell_type": "code",
   "execution_count": 1,
   "id": "292c4ebd",
   "metadata": {},
   "outputs": [
    {
     "name": "stdout",
     "output_type": "stream",
     "text": [
      "Welcome to July Spa!\n",
      "Our services:\n",
      "A: 100$\n",
      "B: 60$\n",
      "C: 80$\n",
      "D: 99.9$\n",
      "Please select a service (A/B/C/D): a\n",
      "A has been added to your selection.\n",
      "Do you want to add more services? (yes/no): yes\n",
      "Please select a service (A/B/C/D): d\n",
      "D has been added to your selection.\n",
      "Do you want to add more services? (yes/no): no\n",
      "You have selected the following services:\n",
      "A: 100$\n",
      "D: 99.9$\n",
      "The total cost is 199.9$. Are you sure you want to proceed? (yes/no): yes\n",
      "Thank you for booking with July Spa!\n"
     ]
    }
   ],
   "source": [
    "services = {\"A\": 100, \"B\": 60, \"C\": 80 , \"D\":99.9}\n",
    "selected_services = []\n",
    "\n",
    "def select_services():\n",
    "    print(\"Welcome to July Spa!\")\n",
    "    print(\"Our services:\")\n",
    "    for i, price in services.items():\n",
    "        print(f\"{i}: {price}$\")\n",
    "    while True:\n",
    "        service = input(\"Please select a service (A/B/C/D): \")\n",
    "        if service.upper() in services:\n",
    "            selected_services.append(service.upper())\n",
    "            print(f\"{service.upper()} has been added to your selection.\")\n",
    "        else:\n",
    "            print(\"Invalid input. Please try again.\")\n",
    "        more_services = input(\"Do you want to add more services? (yes/no): \")\n",
    "        if more_services.lower() == \"no\":\n",
    "            break\n",
    "\n",
    "def confirm_booking():\n",
    "    if selected_services:\n",
    "        print(\"You have selected the following services:\")\n",
    "        total_cost = sum(map(lambda s: services[s], selected_services))\n",
    "        for s in selected_services:\n",
    "            print(f\"{s}: {services[servic]}$\")\n",
    "        confirm = input(f\"The total cost is {total_cost}$. Are you sure you want to proceed? (yes/no): \")\n",
    "        if confirm.lower() == \"yes\":\n",
    "            \n",
    "            print(\"Thank you for booking with July Spa!\")\n",
    "        else:\n",
    "            selected_services.clear()\n",
    "            print(\"Please select your services again.\")\n",
    "    else:\n",
    "        print(\"You haven't selected any services.\")\n",
    "\n",
    "select_services()\n",
    "confirm_booking()"
   ]
  },
  {
   "cell_type": "code",
   "execution_count": null,
   "id": "f422f3dd",
   "metadata": {},
   "outputs": [],
   "source": []
  },
  {
   "cell_type": "code",
   "execution_count": null,
   "id": "db5afffd",
   "metadata": {},
   "outputs": [],
   "source": []
  }
 ],
 "metadata": {
  "kernelspec": {
   "display_name": "Python 3 (ipykernel)",
   "language": "python",
   "name": "python3"
  },
  "language_info": {
   "codemirror_mode": {
    "name": "ipython",
    "version": 3
   },
   "file_extension": ".py",
   "mimetype": "text/x-python",
   "name": "python",
   "nbconvert_exporter": "python",
   "pygments_lexer": "ipython3",
   "version": "3.9.16"
  }
 },
 "nbformat": 4,
 "nbformat_minor": 5
}
