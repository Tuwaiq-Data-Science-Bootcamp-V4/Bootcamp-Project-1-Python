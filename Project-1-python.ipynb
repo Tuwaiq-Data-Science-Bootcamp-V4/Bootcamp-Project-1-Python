{
 "cells": [
  {
   "cell_type": "code",
   "execution_count": null,
   "id": "79e3202a",
   "metadata": {},
   "outputs": [],
   "source": [
    "import datetime # date & time\n",
    "\n",
    "employees={\n",
    "        1:{\"name\":\"Mohammed\",\"position\":\"manager\",\"salary\":25000.00,\"iban\":100010001},\n",
    "        2:{\"name\":\"Ail\",\"position\":\"troubleshooting \",\"salary\":8000.00,\"iban.\":100010001},\n",
    "        3:{\"name\":\"shatha\",\"position\":\"Chief Executive Officer(CEO)\",\"salary\":65000.00,\"iban\":100010001}\n",
    "}\n",
    "\n",
    "#function for view dict\n",
    "def  view_data_set():\n",
    "    for keys , value in employees.items():\n",
    "        print('The ID is: ',keys)\n",
    "        print('The information for employee is: ',value)\n",
    "\n",
    "##function for view dict\n",
    "def  UpdateOrAdd_data_set():\n",
    "    for keys , value in employees.items():\n",
    "        print('The ID is: ',keys)\n",
    "        print('The information for employee is: ',value)\n",
    "    edit=int(input(\"Choice one you want to update or create new ID \"))\n",
    "    nam=str(input(\"Enter the name: \"))\n",
    "    pos=str(input(\"Enter the position: \"))\n",
    "    sal=float(input(\"Enter the salary: \"))\n",
    "    ib=int(input(\"Enter the IBIN: \"))\n",
    "    employees.update({edit:{'name':nam,'position':pos,'salary':sal,'iban':ib}})\n",
    "    for keys , value in employees.items():\n",
    "        print(f'The ID is: {keys}')\n",
    "        print(f'The informations for employee: {value}')\n",
    "        \n",
    "#function for name and date\n",
    "def name_date(text):\n",
    "    # date & time\n",
    "    datetimeNow=datetime.datetime.now()\n",
    "    print(f'The tame is:\\n{datetimeNow}')\n",
    "    to_lower = lambda s: s.strip().title()\n",
    "    result = print(f'The name is:\\n{to_lower(text)}')\n",
    "    return result\n",
    "\n",
    "\n",
    "\n",
    "#full_name_editor=lambda fName , lName: fName + lName\n",
    "name = str(input(\"Enetr your name: \"))\n",
    "Option= int(input(f\"what you want did:\\nThe Options\\n 1-view\\n 2-Update or Add\\n\"))\n",
    "if Option == 1:\n",
    "    view_data_set()\n",
    "elif Option==2:\n",
    "    UpdateOrAdd_data_set()\n",
    "else:\n",
    "    print(\"good bey\")\n",
    "name_date(name)"
   ]
  }
 ],
 "metadata": {
  "kernelspec": {
   "display_name": "Python 3 (ipykernel)",
   "language": "python",
   "name": "python3"
  },
  "language_info": {
   "codemirror_mode": {
    "name": "ipython",
    "version": 3
   },
   "file_extension": ".py",
   "mimetype": "text/x-python",
   "name": "python",
   "nbconvert_exporter": "python",
   "pygments_lexer": "ipython3",
   "version": "3.11.3"
  }
 },
 "nbformat": 4,
 "nbformat_minor": 5
}
