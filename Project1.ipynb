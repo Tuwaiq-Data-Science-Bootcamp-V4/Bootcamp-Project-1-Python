{
 "cells": [
  {
   "cell_type": "markdown",
   "id": "5b88abc2",
   "metadata": {},
   "source": [
    "<h1 align=\"center\"> welcome </h1>"
   ]
  },
  {
   "cell_type": "markdown",
   "id": "ec94a257",
   "metadata": {},
   "source": [
    "<h4 align=\"center\">Here your age can be calculated !</h4>"
   ]
  },
  {
   "cell_type": "code",
   "execution_count": 3,
   "id": "fdd89986",
   "metadata": {},
   "outputs": [],
   "source": [
    "import datetime\n",
    "from datetime import date"
   ]
  },
  {
   "cell_type": "code",
   "execution_count": 4,
   "id": "9e8fe488",
   "metadata": {},
   "outputs": [
    {
     "name": "stdout",
     "output_type": "stream",
     "text": [
      "Year: 1999\n",
      "mounth: 5\n",
      "Day: 6\n"
     ]
    }
   ],
   "source": [
    "year,month,day=int(input('Year: ')),int(input('mounth: ')),int(input('Day: '))\n",
    "today=date.today()\n",
    "while True:\n",
    "    if year>today.year -100 and year<today.year  and month<=12 and month>0 and day<=31 and day>0 :\n",
    "        break\n",
    "    else:\n",
    "        print(\"Please enter valid data:\\n \")\n",
    "        year,month,day=int(input('Year: ')),int(input('mount: ')),int(input('Day: '))\n"
   ]
  },
  {
   "cell_type": "code",
   "execution_count": 5,
   "id": "d00d69e7",
   "metadata": {},
   "outputs": [],
   "source": [
    "def age(birthdate):\n",
    "    age = today.year - birthdate.year - ((today.month, today.day) < (birthdate.month, birthdate.day))\n",
    "    nameMonth=birthdate.strftime('%B')\n",
    "    nameDay=birthdate.strftime('%A')\n",
    "    return age,nameMonth,nameDay\n",
    "age,NM,ND=age(date(year, month, day))"
   ]
  },
  {
   "cell_type": "code",
   "execution_count": 6,
   "id": "5fc7df25",
   "metadata": {},
   "outputs": [],
   "source": [
    "days=lambda birthdate,today:today-birthdate\n",
    "days=days(date(year, month, day),today).days"
   ]
  },
  {
   "cell_type": "code",
   "execution_count": 7,
   "id": "b181bd30",
   "metadata": {},
   "outputs": [
    {
     "name": "stdout",
     "output_type": "stream",
     "text": [
      "your age is 24 and you are now adulthood: Create success\n",
      "You have lived 8850 days in life!\n",
      "You were born on a Thursday in May\n"
     ]
    }
   ],
   "source": [
    "\n",
    "advice=[\"Childhood: Be strong when you get older\",\"adolescence: Don't stress your parents\",'adulthood: Create success','middle age: Your mind and growth has been completed, complete the path of success','aging:Tell stories to your children and be with them']\n",
    "if age>0 and age<12 :\n",
    "    print(f\"your age is {age} and you are now \"+advice[0])\n",
    "elif age>11 and age<22 :\n",
    "    print(f\"your age is {age} and you are now \"+advice[1])\n",
    "elif age>21 and age<40 :\n",
    "    print(f\"your age is {age} and you are now \"+advice[2])\n",
    "elif age>39 and age<60 :\n",
    "    print(f\"your age is {age} and you are now \"+advice[3])\n",
    "else:\n",
    "    print(f\"your age is {age} and you are now \"+advice[4])\n",
    "\n",
    "print(f'You have lived {days} days in life!')\n",
    "print(f'You were born on a {ND} in {NM}')\n"
   ]
  },
  {
   "cell_type": "code",
   "execution_count": null,
   "id": "f8fe3a5f",
   "metadata": {},
   "outputs": [],
   "source": []
  }
 ],
 "metadata": {
  "kernelspec": {
   "display_name": "Python 3 (ipykernel)",
   "language": "python",
   "name": "python3"
  },
  "language_info": {
   "codemirror_mode": {
    "name": "ipython",
    "version": 3
   },
   "file_extension": ".py",
   "mimetype": "text/x-python",
   "name": "python",
   "nbconvert_exporter": "python",
   "pygments_lexer": "ipython3",
   "version": "3.9.13"
  }
 },
 "nbformat": 4,
 "nbformat_minor": 5
}
