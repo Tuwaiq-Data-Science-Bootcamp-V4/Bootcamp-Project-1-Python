{
 "cells": [
  {
   "cell_type": "markdown",
   "id": "2d78ddc1",
   "metadata": {},
   "source": [
    "# The summer player transfer market for the Saudi Roshn League"
   ]
  },
  {
   "cell_type": "markdown",
   "id": "3f1a9b6d",
   "metadata": {},
   "source": [
    "## building our dictionary and covert it to DataFrame using pandas:"
   ]
  },
  {
   "cell_type": "code",
   "execution_count": 1,
   "id": "d414e9f1",
   "metadata": {},
   "outputs": [
    {
     "name": "stdout",
     "output_type": "stream",
     "text": [
      "                players        club  Age Nationality  Contract-Duration  \\\n",
      "0       Roberto Firmino     AL_Ahli   31   Brazilian                3.0   \n",
      "1          Riyad Mahrez     AL_Ahli   32    Algerian                4.0   \n",
      "2   Allan Saint-Maximin     AL_Ahli   26      French                3.0   \n",
      "3         Édouard Mendy     AL_Ahli   31  Senegalese                3.0   \n",
      "4                Fofana   AL_Nasser   28      French                3.0   \n",
      "5              Brozovic   AL_Nasser   30    Croatian                3.0   \n",
      "6                  mane   AL_Nasser   31  Senegalese                3.0   \n",
      "7           Alex Telles   AL_Nasser   30   Brazilian                3.5   \n",
      "8         Karim Benzema  AL_ittihad   35      French                2.0   \n",
      "9                  Jota  AL_ittihad   24  Portuguese                3.0   \n",
      "10         N’Golo Kante  AL_ittihad   32      French                3.0   \n",
      "11          Rúben Neves    AL_Hilal   26  Portuguese                3.0   \n",
      "12    Kalidou Koulibaly    AL_Hilal   32  Senegalese                3.5   \n",
      "13   Malcom de Oliveira    AL_Hilal   26  Portuguese                3.0   \n",
      "14    Sergej Milinković    AL_Hilal   28     Serbian                3.0   \n",
      "\n",
      "             Position  \n",
      "0             Striker  \n",
      "1          Right Wing  \n",
      "2          Left Wing   \n",
      "3         Goal Keeper  \n",
      "4   Center Midfielder  \n",
      "5   Center Midfielder  \n",
      "6          Left Wing   \n",
      "7           Left Back  \n",
      "8             Striker  \n",
      "9           Left Wing  \n",
      "10  Center Midfielder  \n",
      "11  Center Midfielder  \n",
      "12        Center Back  \n",
      "13          Left Wing  \n",
      "14  Center Midfielder  \n"
     ]
    }
   ],
   "source": [
    "import pandas as pd\n",
    "\n",
    "dict_trans = {\n",
    "    \n",
    "    \"players\": [\"Roberto Firmino\", \"Riyad Mahrez\",\"Allan Saint-Maximin\",\"Édouard Mendy\",\"Fofana\", \n",
    "                \"Brozovic\",\"mane\", \"Alex Telles\", \"Karim Benzema\", \"Jota\",\"N’Golo Kante\",\n",
    "                \"Rúben Neves\", \"Kalidou Koulibaly\", \"Malcom de Oliveira\",\"Sergej Milinković\"],\n",
    "    \n",
    "    \"club\": [\"AL_Ahli\", \"AL_Ahli\",\"AL_Ahli\",\"AL_Ahli\",\"AL_Nasser\", \"AL_Nasser\",\"AL_Nasser\",\"AL_Nasser\",\n",
    "             \"AL_ittihad\",\"AL_ittihad\",\"AL_ittihad\",\"AL_Hilal\", \"AL_Hilal\",\"AL_Hilal\",\"AL_Hilal\" ],\n",
    "\n",
    "    \n",
    "    \"Age\": [31, 32, 26, 31, 28, 30, 31, 30, 35, 24, 32, 26, 32, 26, 28],\n",
    "    \n",
    "    \"Nationality\":[\"Brazilian\", \"Algerian\", \"French\", \"Senegalese\",\"French\", \"Croatian\",  \n",
    "                   \"Senegalese\",\"Brazilian\", \"French\", \"Portuguese\", \"French\", \"Portuguese\",\n",
    "                   \"Senegalese\", \"Portuguese\",\"Serbian\"],\n",
    "    \n",
    "    \"Contract-Duration\": [3, 4, 3, 3, 3, 3, 3, 3.5 ,2, 3, 3, 3, 3.5, 3, 3],\n",
    "    \n",
    "    \"Position\":[\"Striker\", \"Right Wing\", \"Left Wing \", \"Goal Keeper\",\"Center Midfielder\", \n",
    "               \"Center Midfielder\", \"Left Wing \",\" Left Back\", \"Striker\", \"Left Wing\", \"Center Midfielder\",\n",
    "               \"Center Midfielder\", \"Center Back\", \"Left Wing\", \"Center Midfielder\"],\n",
    "}\n",
    "\n",
    "trans = pd.DataFrame(dict_trans)\n",
    "\n",
    "print(trans)\n"
   ]
  },
  {
   "cell_type": "markdown",
   "id": "1cb2cbc3",
   "metadata": {},
   "source": [
    "## display new players in RSL and  players information in detail by entering player's name :"
   ]
  },
  {
   "cell_type": "code",
   "execution_count": 2,
   "id": "99cd4374",
   "metadata": {},
   "outputs": [
    {
     "name": "stdout",
     "output_type": "stream",
     "text": [
      "Here All new players in RSL\n",
      "The club AL_Ahli signed with Roberto Firmino\n",
      "The club AL_Ahli signed with Riyad Mahrez\n",
      "The club AL_Ahli signed with Allan Saint-Maximin\n",
      "The club AL_Ahli signed with Édouard Mendy\n",
      "The club AL_Nasser signed with Fofana\n",
      "The club AL_Nasser signed with Brozovic\n",
      "The club AL_Nasser signed with mane\n",
      "The club AL_Nasser signed with Alex Telles\n",
      "The club AL_ittihad signed with Karim Benzema\n",
      "The club AL_ittihad signed with Jota\n",
      "The club AL_ittihad signed with N’Golo Kante\n",
      "The club AL_Hilal signed with Rúben Neves\n",
      "The club AL_Hilal signed with Kalidou Koulibaly\n",
      "The club AL_Hilal signed with Malcom de Oliveira\n",
      "The club AL_Hilal signed with Sergej Milinković\n",
      "Enter your favorite player : AL_Hilal\n",
      "Sorry, no information available for \"AL_Hilal\".\n"
     ]
    }
   ],
   "source": [
    "\n",
    "print(\"Here All new players in RSL\")\n",
    "\n",
    "display_transmarket = lambda: [print(f'The club {club} signed with {player}') \n",
    "                               for club, player in zip(dict_trans[\"club\"], dict_trans[\"players\"])]\n",
    "\n",
    "display_transmarket()\n",
    "\n",
    "favorite1 = input(\"Enter your favorite player : \")\n",
    "\n",
    "if favorite1 in dict_trans[\"players\"]:\n",
    "    index = dict_trans[\"players\"].index(favorite1)\n",
    "    print(f'Details of your favorite player \"{favorite1}\":')\n",
    "    print(f'Club: {dict_trans[\"club\"][index]}')\n",
    "    print(f'Age: {dict_trans[\"Age\"][index]}')\n",
    "    print(f'Nationality: {dict_trans[\"Nationality\"][index]}')\n",
    "    print(f'Contract Duration: {dict_trans[\"Contract-Duration\"][index]} years')\n",
    "    print(f'Position: {dict_trans[\"Position\"][index]}')\n",
    "else:\n",
    "    print(f'Sorry, no information available for \"{favorite1}\".')"
   ]
  },
  {
   "cell_type": "markdown",
   "id": "b1230567",
   "metadata": {},
   "source": [
    "## displaying the new club players information in detail by entering club's name"
   ]
  },
  {
   "cell_type": "code",
   "execution_count": 3,
   "id": "8f2ab91b",
   "metadata": {},
   "outputs": [
    {
     "name": "stdout",
     "output_type": "stream",
     "text": [
      "Enter your favorite team to Show more Details about players who recently joined: AL_Hilal\n",
      "\"AL_Hilal\" clubs players:\n",
      "Player: Rúben Neves\n",
      "Age: 26\n",
      "Nationality: Portuguese\n",
      "Contract Duration: 3 years\n",
      "Position: Center Midfielder\n",
      "\n",
      "Player: Kalidou Koulibaly\n",
      "Age: 32\n",
      "Nationality: Senegalese\n",
      "Contract Duration: 3.5 years\n",
      "Position: Center Back\n",
      "\n",
      "Player: Malcom de Oliveira\n",
      "Age: 26\n",
      "Nationality: Portuguese\n",
      "Contract Duration: 3 years\n",
      "Position: Left Wing\n",
      "\n",
      "Player: Sergej Milinković\n",
      "Age: 28\n",
      "Nationality: Serbian\n",
      "Contract Duration: 3 years\n",
      "Position: Center Midfielder\n",
      "\n"
     ]
    }
   ],
   "source": [
    "favorite = input(\"Enter your favorite team to Show more Details about players who recently joined: \")\n",
    "\n",
    "if favorite in dict_trans[\"club\"]:\n",
    "    print(f'\"{favorite}\" clubs players:')\n",
    "    club_indices = [index for index, club in enumerate(dict_trans[\"club\"]) if club == favorite]\n",
    "    for index in club_indices:\n",
    "        player = dict_trans[\"players\"][index]\n",
    "        age = dict_trans[\"Age\"][index]\n",
    "        nationality = dict_trans[\"Nationality\"][index]\n",
    "        contract_duration = dict_trans[\"Contract-Duration\"][index]\n",
    "        position = dict_trans[\"Position\"][index]\n",
    "        print(f'Player: {player}')\n",
    "        print(f'Age: {age}')\n",
    "        print(f'Nationality: {nationality}')\n",
    "        print(f'Contract Duration: {contract_duration} years')\n",
    "        print(f'Position: {position}')\n",
    "        print()\n",
    "else:\n",
    "    print(f'Sorry, no information available for the club \"{favorite}\".')"
   ]
  }
 ],
 "metadata": {
  "kernelspec": {
   "display_name": "Python 3 (ipykernel)",
   "language": "python",
   "name": "python3"
  },
  "language_info": {
   "codemirror_mode": {
    "name": "ipython",
    "version": 3
   },
   "file_extension": ".py",
   "mimetype": "text/x-python",
   "name": "python",
   "nbconvert_exporter": "python",
   "pygments_lexer": "ipython3",
   "version": "3.9.7"
  }
 },
 "nbformat": 4,
 "nbformat_minor": 5
}
