{
 "cells": [
  {
   "cell_type": "markdown",
   "id": "ddc28543",
   "metadata": {},
   "source": [
    "# CVSS Calculator\n",
    "### *CVSS Calculator* is a tool that scoring each vulnerability on a variety of measures"
   ]
  },
  {
   "cell_type": "markdown",
   "id": "e566deb7",
   "metadata": {},
   "source": [
    "## Mesures\n",
    "**There are six different measures**"
   ]
  },
  {
   "cell_type": "code",
   "execution_count": null,
   "id": "d056fd58",
   "metadata": {},
   "outputs": [],
   "source": [
    "mesures_dic = {\n",
    "    'access_vector' : {\n",
    "        1:['Local',0.395,'The attacker must have physical or logical access to the affected system'],\n",
    "        2:['Adjacent Network',0.646,'The attacker must have access to the local network that the affected system is connected to'],\n",
    "        3:['Network',1.000,'The attacker can exploit the vulnerability remotely over a network']\n",
    "    },\n",
    "    'access_complexity' : {\n",
    "        1:['High',0.35,'Exploiting the vulnerability requires \"specialized\" conditions that would be difficult to find'],\n",
    "        2:['Medium',0.610,'Exploiting the vulnerability requires \"somewhat 0.610 specialized\" conditions'],\n",
    "        3:['Low',0.710,'Exploiting the vulnerability does not require any specialised condition']\n",
    "    },\n",
    "    'authentication' : {\n",
    "        1:['Multiple',0.450,'Attackers would need to authenticate two or more times to exploit the vulnerability'],\n",
    "        2:['Single',0.560,'Attackers would need to authenticate once to exploit the vulnerability'],\n",
    "        3:['None',0.704,'Attackers do not need to authenticate to exploit the vulnerability']\n",
    "    },\n",
    "    'confidentiality' : {\n",
    "        1:['None',0.00,'There is no confidentiality impact'],\n",
    "        2:['Partial',0.275,'Access to some information is possible, but the attacker does not have control over what information is compromised'],\n",
    "        3:['Complete',0.660,'All information on the system is compromised']\n",
    "    },\n",
    "    'integrity' : {\n",
    "        1:['None',0.00,'There is no integrity impact'],\n",
    "        2:['Partial',0.275,'Modification of some information is possible, but the attacker does not have control over what information is modified'],\n",
    "        3:['Complete',0.660,'The integrity of the system is totally compromised and the attacker may change any information at will']\n",
    "    },\n",
    "    'availability' : {\n",
    "        1:['None',0.00,'There is no availability impact'],\n",
    "        2:['Partial',0.275,'The performance of the system is degraded'],\n",
    "        3:['Complete',0.660,'The system is completely shut down']\n",
    "    }\n",
    "}"
   ]
  },
  {
   "cell_type": "markdown",
   "id": "0375a945",
   "metadata": {},
   "source": [
    "## CVSS Scores \n",
    "- **Exploitability Score** = 20 x *AccessVector* x *AccessComplexity* x *Authentication*\n",
    "\n"
   ]
  },
  {
   "cell_type": "code",
   "execution_count": null,
   "id": "942f3a84",
   "metadata": {},
   "outputs": [],
   "source": [
    "# Exploitability score function\n",
    "exploit_score = lambda av , ac , au : round(20*av*ac*au , 3)\n"
   ]
  },
  {
   "cell_type": "markdown",
   "id": "5f0b3a16",
   "metadata": {},
   "source": [
    "- **Impact Score** = 10.41 x (1- ( 1-*Confidentiality* ) x ( 1-*Integrity* ) x ( 1-*Availability* ))"
   ]
  },
  {
   "cell_type": "code",
   "execution_count": null,
   "id": "aedc81a6",
   "metadata": {},
   "outputs": [],
   "source": [
    "# Impact score function \n",
    "impact_score = lambda c , i , a : round(10.41*(1-(1-c)*(1-i)*(1-a)),3)\n"
   ]
  },
  {
   "cell_type": "markdown",
   "id": "9d20be45",
   "metadata": {},
   "source": [
    "- If **Impact Score** = 0 then **Impact Function** = 0   \n",
    "  If **Impact Score** > 0 then **Impact Function** = 1.176"
   ]
  },
  {
   "cell_type": "code",
   "execution_count": null,
   "id": "79044e17",
   "metadata": {},
   "outputs": [],
   "source": [
    "# Impact functio\n",
    "def impact_fun(score):\n",
    "    if score == 0 :\n",
    "        result = 0 \n",
    "    else :\n",
    "        result = 1.176\n",
    "    return result \n"
   ]
  },
  {
   "cell_type": "markdown",
   "id": "4ea39b92",
   "metadata": {},
   "source": [
    "- **Base Score** = ((0.6 x *ImpactScore* ) + (0.4 x *ExploitabilityScore* ) - 1.5 ) x *ImpactFunction*"
   ]
  },
  {
   "cell_type": "code",
   "execution_count": null,
   "id": "d35f396a",
   "metadata": {},
   "outputs": [],
   "source": [
    "# Base Score function \n",
    "def base_score(im , ex , imf):\n",
    "    cvss = round(((0.6*im)+(0.4*ex)-1.5)*imf, 3)\n",
    "    if cvss == 0.0:\n",
    "        risk = 'None'\n",
    "    elif cvss >= 0.1 and cvss <= 3.9 :\n",
    "        risk = 'Low'\n",
    "    elif cvss >= 4.0 and cvss <= 5.9 :\n",
    "        risk = 'Medium'\n",
    "    elif cvss >= 6.0 and cvss <= 8.9 :\n",
    "        risk = 'High'\n",
    "    elif cvss >= 9.0 and cvss <=10.0 :\n",
    "        risk = 'Critical'\n",
    "    print('CVSS : ', cvss, '\\nSeverity of the vulnerability : ', risk)\n",
    "    "
   ]
  },
  {
   "cell_type": "markdown",
   "id": "259aadc9",
   "metadata": {},
   "source": [
    "## The description of the metrics\n",
    "**Clarify the meaning of each metric**"
   ]
  },
  {
   "cell_type": "code",
   "execution_count": null,
   "id": "77afb17c",
   "metadata": {},
   "outputs": [],
   "source": [
    "# description function\n",
    "def desc(dic):\n",
    "    for i in dic :\n",
    "        print(i.upper())\n",
    "        for j in dic[i]:\n",
    "            print(dic[i][j][0], ':', dic[i][j][2] )\n",
    "        print()\n",
    "\n",
    "desc(mesures_dic)"
   ]
  },
  {
   "cell_type": "markdown",
   "id": "040e9791",
   "metadata": {},
   "source": [
    "## Input validation \n",
    "**Ensure that the user has selected one of the available options**"
   ]
  },
  {
   "cell_type": "code",
   "execution_count": null,
   "id": "4a36817f",
   "metadata": {},
   "outputs": [],
   "source": [
    "#input validation function\n",
    "def valid(ans):\n",
    "    valid_values = [1, 2, 3]\n",
    "    while True:\n",
    "        answer = int(input(ans))\n",
    "        if answer in valid_values:\n",
    "            break  # Exit the loop if the input is valid\n",
    "        else:\n",
    "            print(\"\\nInvalid input, Please the correct number\")\n",
    "    return answer "
   ]
  },
  {
   "cell_type": "markdown",
   "id": "1cfe083d",
   "metadata": {},
   "source": [
    "## Selection of metrics\n",
    "**Let the user choose the metrics of the vulnerability that he wants to evaluate**"
   ]
  },
  {
   "cell_type": "code",
   "execution_count": null,
   "id": "0138e997",
   "metadata": {},
   "outputs": [],
   "source": [
    "try:\n",
    "    measures = []\n",
    "    choices = ['Access Vector : \\n1: Local\\n2: Adjacent Network\\n3: Network\\n',\n",
    "           'Access Complexity : \\n1: High\\n2: Medium\\n3: Low\\n',\n",
    "           'Authentication Metric : \\n1: Multiple\\n2: Single\\n3: None\\n',\n",
    "           'Confidentiality Impact : \\n1: None\\n2: Partial\\n3: Complete\\n',\n",
    "           'Integrity Impact : \\n1: None\\n2: Partial\\n3: Complete\\n',\n",
    "           'Availability Impact : \\n1: None\\n2: Partial\\n3: Complete\\n']\n",
    "    for i in choices:\n",
    "        question = 'Enterr the number of '+ i\n",
    "        answer = valid(question)\n",
    "        measures.append(answer)\n",
    "    \n",
    "except KeyboardInterrupt:\n",
    "    print(\"The process has been interrupted\")"
   ]
  },
  {
   "cell_type": "markdown",
   "id": "cd68b1ab",
   "metadata": {},
   "source": [
    "## CVSS calculating\n",
    "**Calculate the CVSS based on what the user chose**"
   ]
  },
  {
   "cell_type": "code",
   "execution_count": null,
   "id": "45ada3f8",
   "metadata": {},
   "outputs": [],
   "source": [
    "# cvss function\n",
    "def cvss_score(answer_lis, dic):\n",
    "    lis = []\n",
    "    i = 0\n",
    "    for x in dic :\n",
    "        value = dic[x][answer_lis[i]][1]\n",
    "        lis.append(value)\n",
    "        i += 1\n",
    "    x = exploit_score(lis[0], lis[1], lis[2])\n",
    "    y = impact_score (lis[3], lis[4], lis[5]) \n",
    "    z = impact_fun(y) \n",
    "    print('The exploitability Score is ', x)\n",
    "    print('The Impact Score Score is ', y)\n",
    "    m = base_score(y, x, z) \n",
    "    \n",
    "cvss_score(measures, mesures_dic)"
   ]
  },
  {
   "cell_type": "code",
   "execution_count": null,
   "id": "5feadf8b",
   "metadata": {},
   "outputs": [],
   "source": []
  }
 ],
 "metadata": {
  "kernelspec": {
   "display_name": "Python 3 (ipykernel)",
   "language": "python",
   "name": "python3"
  },
  "language_info": {
   "codemirror_mode": {
    "name": "ipython",
    "version": 3
   },
   "file_extension": ".py",
   "mimetype": "text/x-python",
   "name": "python",
   "nbconvert_exporter": "python",
   "pygments_lexer": "ipython3",
   "version": "3.9.12"
  }
 },
 "nbformat": 4,
 "nbformat_minor": 5
}
